{
 "cells": [
  {
   "cell_type": "markdown",
   "metadata": {},
   "source": [
    "# 第6章"
   ]
  },
  {
   "cell_type": "code",
   "execution_count": 2,
   "metadata": {},
   "outputs": [
    {
     "name": "stdout",
     "output_type": "stream",
     "text": [
      "2.2.1\n"
     ]
    }
   ],
   "source": [
    "import torch\n",
    "print(torch.__version__)"
   ]
  },
  {
   "cell_type": "markdown",
   "metadata": {},
   "source": [
    "## PyTorch"
   ]
  },
  {
   "cell_type": "code",
   "execution_count": null,
   "metadata": {},
   "outputs": [],
   "source": [
    "x = torch.tensor(5.0)\n",
    "y = 3 * x ** 2\n",
    "print(y)\n",
    "y.backward()\n",
    "print(x.grad)"
   ]
  },
  {
   "cell_type": "markdown",
   "metadata": {},
   "source": [
    "### 勾配法\n",
    "以下のローゼンブロック関数の最小値を勾配法で求める(最適解は、$(x_0,x_1) = (1, 1)$)\n",
    "$$\n",
    "y = 100 \\left(x_1 - x_0^2 \\right)^2 + \\left(x_0 - 1\\right)^2\n",
    "$$"
   ]
  },
  {
   "cell_type": "code",
   "execution_count": 3,
   "metadata": {},
   "outputs": [
    {
     "name": "stdout",
     "output_type": "stream",
     "text": [
      "tensor(-2.) tensor(400.)\n"
     ]
    }
   ],
   "source": [
    "def rosenbrock(x0, x1):\n",
    "    y = 100 * (x1 - x0 ** 2) ** 2 + (x0 - 1) ** 2\n",
    "    return y\n",
    "\n",
    "x0 = torch.tensor(0.0, requires_grad=True)\n",
    "x1 = torch.tensor(2.0, requires_grad=True)\n",
    "\n",
    "y = rosenbrock(x0, x1)\n",
    "y.backward()\n",
    "print(x0.grad, x1.grad) # (0, 2)における勾配"
   ]
  },
  {
   "cell_type": "code",
   "execution_count": 4,
   "metadata": {},
   "outputs": [
    {
     "name": "stdout",
     "output_type": "stream",
     "text": [
      "0.0 2.0\n",
      "0.6815015077590942 0.46292299032211304\n",
      "0.8253857493400574 0.6804871559143066\n",
      "0.8942827582359314 0.7992911338806152\n",
      "0.9331904053688049 0.8705660700798035\n",
      "0.9568046927452087 0.9152978658676147\n",
      "0.9716982245445251 0.9440822601318359\n",
      "0.9813036918640137 0.9628812670707703\n",
      "0.98758465051651 0.9752733111381531\n",
      "0.9917276501655579 0.983490526676178\n",
      "0.9944759607315063 0.9889602065086365\n"
     ]
    }
   ],
   "source": [
    "# 勾配法\n",
    "lr =0.001 # 学習率\n",
    "iters = 10000 # 繰り返す回数\n",
    "for i in range(iters):\n",
    "    if i % 1000 == 0:\n",
    "        print(x0.item(), x1.item())\n",
    "\n",
    "    y = rosenbrock(x0, x1)\n",
    "\n",
    "    y.backward()\n",
    "\n",
    "    # 更新\n",
    "    x0.data -= lr * x0.grad.data\n",
    "    x1.data -= lr * x1.grad.data\n",
    "\n",
    "    # 勾配リセット\n",
    "    x0.grad.zero_()\n",
    "    x1.grad.zero_()\n",
    "\n",
    "print(x0.item(), x1.item())"
   ]
  },
  {
   "cell_type": "markdown",
   "metadata": {},
   "source": [
    "## 線形回帰"
   ]
  },
  {
   "cell_type": "markdown",
   "metadata": {},
   "source": [
    "線形回帰における損失関数(最小化する目的関数)は、\n",
    "$$\n",
    "L\\left(W, b\\right) = \\frac{1}{N} \\sum_{n=1}^{N}{\\left(y^{(n)} - \\left(W x^{(n)} + b \\right)\\right)^2}\n",
    "$$\n",
    "という平均2乗誤差である"
   ]
  },
  {
   "cell_type": "code",
   "execution_count": 6,
   "metadata": {},
   "outputs": [
    {
     "name": "stdout",
     "output_type": "stream",
     "text": [
      "41.89796447753906\n",
      "0.22483211755752563\n",
      "0.0925208106637001\n",
      "0.0888015553355217\n",
      "0.08627457916736603\n",
      "0.08435674756765366\n",
      "0.0829005315899849\n",
      "0.0817948430776596\n",
      "0.08095530420541763\n",
      "0.08031783998012543\n",
      "0.07987643033266068\n",
      "W= 2.2863590717315674\n",
      "b= 5.3144850730896\n"
     ]
    }
   ],
   "source": [
    "import torch\n",
    "\n",
    "torch.manual_seed(0)\n",
    "x = torch.rand(100, 1)\n",
    "y = 5 + 2 * x + torch.rand(100, 1) # ノイズとして(0,1)乱数を加える\n",
    "\n",
    "W = torch.zeros((1, 1), requires_grad=True) # Wの形状:(1, 1)\n",
    "b = torch.zeros(1, requires_grad=True) # bの形状(1,)\n",
    "\n",
    "def predict(x):\n",
    "    y = x @ W + b\n",
    "    return y\n",
    "\n",
    "def mean_squared_error(x0, x1):\n",
    "    diff = x0 -x1\n",
    "    N = len(diff)\n",
    "    return torch.sum(diff ** 2) / N\n",
    "\n",
    "lr = 0.1\n",
    "iters = 100\n",
    "\n",
    "for i in range(iters):\n",
    "    y_hat = predict(x)\n",
    "    loss = mean_squared_error(y, y_hat)\n",
    "\n",
    "    loss.backward()\n",
    "\n",
    "    W.data -= lr * W.grad.data\n",
    "    b.data -= lr * b.grad.data\n",
    "\n",
    "    W.grad.zero_()\n",
    "    b.grad.zero_()\n",
    "\n",
    "    if i % 10 == 0:\n",
    "        print(loss.item())\n",
    "\n",
    "print(loss.item())\n",
    "print('W=', W.item())\n",
    "print('b=', b.item())\n"
   ]
  },
  {
   "cell_type": "markdown",
   "metadata": {},
   "source": [
    "可視化する"
   ]
  },
  {
   "cell_type": "code",
   "execution_count": 7,
   "metadata": {},
   "outputs": [
    {
     "data": {
      "image/png": "[encoded data removed]",
      "text/plain": [
       "<Figure size 640x480 with 1 Axes>"
      ]
     },
     "metadata": {},
     "output_type": "display_data"
    }
   ],
   "source": [
    "import matplotlib.pyplot as plt\n",
    "plt.scatter(x.detach().numpy(), y.detach().numpy(), s=10)\n",
    "x = torch.tensor([[0.0], [1.0]])\n",
    "y = W.detach().numpy() * x.detach().numpy() + b.detach().numpy()\n",
    "plt.plot(x, y, color='red')\n",
    "plt.xlabel('x')\n",
    "plt.ylabel('y')\n",
    "plt.show()"
   ]
  },
  {
   "cell_type": "markdown",
   "metadata": {},
   "source": [
    "平均二乗誤差を求める関数を`mean_squared_error`として実装したが以下のようにtorchを使ってかける"
   ]
  },
  {
   "cell_type": "code",
   "execution_count": 12,
   "metadata": {},
   "outputs": [],
   "source": [
    "import torch.nn.functional as F\n",
    "x = torch.rand(100, 1)\n",
    "y = 5 + 2 * x + torch.rand(100, 1)\n",
    "loss = F.mse_loss(y, predict(x))"
   ]
  },
  {
   "cell_type": "markdown",
   "metadata": {},
   "source": [
    "## ParameterとOptimizer\n",
    "`torch.nn.Parameter`, `torch.nn.Module`, `torch.optim.SGD`を使って上記のコードをリファクタリングする\n",
    "### Parameter, Module\n",
    "ParameterはTensorクラスを継承したクラスである。引数にtensorインスタンスを与えてParameterのインスタンスを生成できる。"
   ]
  },
  {
   "cell_type": "code",
   "execution_count": 13,
   "metadata": {},
   "outputs": [
    {
     "name": "stdout",
     "output_type": "stream",
     "text": [
      "Parameter containing:\n",
      "tensor([[0.]], requires_grad=True)\n",
      "Parameter containing:\n",
      "tensor([0.], requires_grad=True)\n"
     ]
    }
   ],
   "source": [
    "import torch\n",
    "import torch.nn as nn\n",
    "\n",
    "W = nn.Parameter(torch.zeros(1, 1))\n",
    "b = nn.Parameter(torch.zeros(1))\n",
    "\n",
    "print(W)\n",
    "print(b)"
   ]
  },
  {
   "cell_type": "markdown",
   "metadata": {},
   "source": [
    "Parameterはデフォルトで`require_grad=True`となっている。さらに、ParameterはModuleと組み合わせることで以下のように使える"
   ]
  },
  {
   "cell_type": "code",
   "execution_count": 14,
   "metadata": {},
   "outputs": [
    {
     "name": "stdout",
     "output_type": "stream",
     "text": [
      "Parameter containing:\n",
      "tensor([[0.]], requires_grad=True)\n",
      "Parameter containing:\n",
      "tensor([0.], requires_grad=True)\n"
     ]
    }
   ],
   "source": [
    "class Model(nn.Module): # Moduleクラスを継承\n",
    "    def __init__(self):\n",
    "        super().__init__()\n",
    "        self.W = nn.Parameter(torch.zeros(1, 1))\n",
    "        self.b = nn.Parameter(torch.zeros(1))\n",
    "\n",
    "    def forward(self, x):\n",
    "        y = x @ self.W + self.b\n",
    "        return y\n",
    "\n",
    "model = Model()\n",
    "# モデルにある全てのパラメータにアクセス\n",
    "for param in model.parameters():\n",
    "    print(param)"
   ]
  },
  {
   "cell_type": "markdown",
   "metadata": {},
   "source": [
    "このように`parameters()`メソッドを用いてModuleクラスを継承したクラスからそれが持つ全てのパラメータにアクセスできる。さらに、順伝搬は`model.forward(x)`で得られるが、`model(x)`と省略できる\n",
    "\n",
    "また、ここでの順伝搬は線形変換を計算しているため、PyTorchの`torch.nn.Linear`という線形変換のためのクラスを使用できる"
   ]
  },
  {
   "cell_type": "code",
   "execution_count": 17,
   "metadata": {},
   "outputs": [
    {
     "name": "stdout",
     "output_type": "stream",
     "text": [
      "Parameter containing:\n",
      "tensor([[0.4089]], requires_grad=True)\n",
      "Parameter containing:\n",
      "tensor([-0.7591], requires_grad=True)\n"
     ]
    }
   ],
   "source": [
    "class Model(nn.Module):\n",
    "    def __init__(self, input_size=1, output_size=1):\n",
    "        super().__init__()\n",
    "        self.linear = nn.Linear(input_size, output_size) # Linearクラスを使用\n",
    "\n",
    "    def forward(self, x):\n",
    "        y = self.linear(x)\n",
    "        return y\n",
    "\n",
    "model = Model()\n",
    "\n",
    "for param in model.parameters():\n",
    "    print(param)"
   ]
  },
  {
   "cell_type": "markdown",
   "metadata": {},
   "source": [
    "### optimizer\n",
    "torch.optimを用いて上記の最適化手法を簡単にかける"
   ]
  },
  {
   "cell_type": "code",
   "execution_count": 20,
   "metadata": {},
   "outputs": [],
   "source": [
    "x = torch.rand(100, 1)\n",
    "y = 5 + 2 * x + torch.rand(100, 1)\n",
    "\n",
    "lr = 0.1\n",
    "iters = 100\n",
    "\n",
    "model = Model()\n",
    "optimizer = torch.optim.SGD(model.parameters(), lr=lr) # optimizerの生成\n",
    "\n",
    "for i in range(iters):\n",
    "    y_hat = model(x)\n",
    "    loss = nn.functional.mse_loss(y, y_hat)\n",
    "\n",
    "    loss.backward() # 逆伝搬\n",
    "    optimizer.step() # パラメータの更新\n",
    "    optimizer.zero_grad() # 勾配をリセット\n"
   ]
  },
  {
   "cell_type": "markdown",
   "metadata": {},
   "source": [
    "## ニューラルネットワークの実装\n",
    "以下のような非線形なデータセットを考える\n",
    "$$\n",
    "y = \\sin \\left(2 \\pi x \\right) + \\epsilon\n",
    "$$\n",
    "$\\epsilon$は0から1までの値を取る乱数(ノイズ)である"
   ]
  },
  {
   "cell_type": "code",
   "execution_count": 21,
   "metadata": {},
   "outputs": [],
   "source": [
    "import torch\n",
    "\n",
    "torch.manual_seed(0)\n",
    "x = torch.rand(100, 1)\n",
    "y = torch.sin(2 * torch.pi * x) + torch.rand(100, 1)"
   ]
  },
  {
   "cell_type": "markdown",
   "metadata": {},
   "source": [
    "2層で活性化関数としてシグモイド関数を使用するニューラルネットワークを実装する"
   ]
  },
  {
   "cell_type": "code",
   "execution_count": 22,
   "metadata": {},
   "outputs": [],
   "source": [
    "import torch.nn as nn\n",
    "import torch.nn.functional as F\n",
    "\n",
    "class Model(nn.Module):\n",
    "    def __init__(self, input_size=1, hidden_size=10, output_size=1):\n",
    "        super().__init__()\n",
    "        self.linear1 = nn.Linear(input_size, hidden_size)\n",
    "        self.linear2 = nn.Linear(hidden_size, output_size)\n",
    "    \n",
    "    def forward(self, x):\n",
    "        y = self.linear1(x)\n",
    "        y = F.sigmoid(y)\n",
    "        y = self.linear2(y)\n",
    "        return y"
   ]
  },
  {
   "cell_type": "markdown",
   "metadata": {},
   "source": [
    "実際に学習する"
   ]
  },
  {
   "cell_type": "code",
   "execution_count": 26,
   "metadata": {},
   "outputs": [
    {
     "name": "stdout",
     "output_type": "stream",
     "text": [
      "0.7568312287330627\n",
      "0.23819884657859802\n",
      "0.23317594826221466\n",
      "0.2190137803554535\n",
      "0.1875254511833191\n",
      "0.12655875086784363\n",
      "0.08644960075616837\n",
      "0.08226139098405838\n",
      "0.08166871219873428\n",
      "0.0812397301197052\n",
      "0.08085757493972778\n"
     ]
    }
   ],
   "source": [
    "lr = 0.2\n",
    "iters = 10000\n",
    "\n",
    "model = Model()\n",
    "optimizer = torch.optim.SGD(model.parameters(), lr=lr)\n",
    "\n",
    "for i in range(iters):\n",
    "    y_pred = model(x)\n",
    "    loss = F.mse_loss(y, y_pred)\n",
    "\n",
    "    loss.backward()\n",
    "    optimizer.step()\n",
    "    optimizer.zero_grad()\n",
    "\n",
    "    if i % 1000 == 0:\n",
    "        print(loss.item())\n",
    "\n",
    "print(loss.item())"
   ]
  },
  {
   "cell_type": "markdown",
   "metadata": {},
   "source": [
    "可視化する"
   ]
  },
  {
   "cell_type": "code",
   "execution_count": 27,
   "metadata": {},
   "outputs": [
    {
     "data": {
      "image/png": "[encoded data removed]",
      "text/plain": [
       "<Figure size 640x480 with 1 Axes>"
      ]
     },
     "metadata": {},
     "output_type": "display_data"
    }
   ],
   "source": [
    "import matplotlib.pyplot as plt\n",
    "plt.scatter(x.detach().numpy(), y.detach().numpy(), s=10)\n",
    "x = torch.linspace(0, 1, 100).reshape(-1, 1)\n",
    "y = model(x).detach().numpy()\n",
    "plt.plot(x, y, color='red')\n",
    "plt.show()"
   ]
  },
  {
   "cell_type": "markdown",
   "metadata": {},
   "source": [
    "## torchvisionとデータセット"
   ]
  },
  {
   "cell_type": "code",
   "execution_count": 28,
   "metadata": {},
   "outputs": [
    {
     "name": "stdout",
     "output_type": "stream",
     "text": [
      "0.17.1\n"
     ]
    }
   ],
   "source": [
    "import torchvision\n",
    "print(torchvision.__version__)"
   ]
  },
  {
   "cell_type": "markdown",
   "metadata": {},
   "source": [
    "### MNISTデータセット読み込み"
   ]
  },
  {
   "cell_type": "code",
   "execution_count": 29,
   "metadata": {},
   "outputs": [
    {
     "name": "stdout",
     "output_type": "stream",
     "text": [
      "Downloading http://yann.lecun.com/exdb/mnist/train-images-idx3-ubyte.gz\n",
      "Failed to download (trying next):\n",
      "HTTP Error 403: Forbidden\n",
      "\n",
      "Downloading https://ossci-datasets.s3.amazonaws.com/mnist/train-images-idx3-ubyte.gz\n",
      "Downloading https://ossci-datasets.s3.amazonaws.com/mnist/train-images-idx3-ubyte.gz to ./data/MNIST/raw/train-images-idx3-ubyte.gz\n"
     ]
    },
    {
     "name": "stderr",
     "output_type": "stream",
     "text": [
      "100%|██████████| 9912422/9912422 [00:12<00:00, 763593.28it/s] \n"
     ]
    },
    {
     "name": "stdout",
     "output_type": "stream",
     "text": [
      "Extracting ./data/MNIST/raw/train-images-idx3-ubyte.gz to ./data/MNIST/raw\n",
      "\n",
      "Downloading http://yann.lecun.com/exdb/mnist/train-labels-idx1-ubyte.gz\n",
      "Failed to download (trying next):\n",
      "HTTP Error 403: Forbidden\n",
      "\n",
      "Downloading https://ossci-datasets.s3.amazonaws.com/mnist/train-labels-idx1-ubyte.gz\n",
      "Downloading https://ossci-datasets.s3.amazonaws.com/mnist/train-labels-idx1-ubyte.gz to ./data/MNIST/raw/train-labels-idx1-ubyte.gz\n"
     ]
    },
    {
     "name": "stderr",
     "output_type": "stream",
     "text": [
      "100%|██████████| 28881/28881 [00:00<00:00, 155484.37it/s]\n"
     ]
    },
    {
     "name": "stdout",
     "output_type": "stream",
     "text": [
      "Extracting ./data/MNIST/raw/train-labels-idx1-ubyte.gz to ./data/MNIST/raw\n",
      "\n",
      "Downloading http://yann.lecun.com/exdb/mnist/t10k-images-idx3-ubyte.gz\n",
      "Failed to download (trying next):\n",
      "HTTP Error 403: Forbidden\n",
      "\n",
      "Downloading https://ossci-datasets.s3.amazonaws.com/mnist/t10k-images-idx3-ubyte.gz\n",
      "Downloading https://ossci-datasets.s3.amazonaws.com/mnist/t10k-images-idx3-ubyte.gz to ./data/MNIST/raw/t10k-images-idx3-ubyte.gz\n"
     ]
    },
    {
     "name": "stderr",
     "output_type": "stream",
     "text": [
      "100%|██████████| 1648877/1648877 [00:01<00:00, 1348440.30it/s]\n"
     ]
    },
    {
     "name": "stdout",
     "output_type": "stream",
     "text": [
      "Extracting ./data/MNIST/raw/t10k-images-idx3-ubyte.gz to ./data/MNIST/raw\n",
      "\n",
      "Downloading http://yann.lecun.com/exdb/mnist/t10k-labels-idx1-ubyte.gz\n",
      "Failed to download (trying next):\n",
      "HTTP Error 403: Forbidden\n",
      "\n",
      "Downloading https://ossci-datasets.s3.amazonaws.com/mnist/t10k-labels-idx1-ubyte.gz\n",
      "Downloading https://ossci-datasets.s3.amazonaws.com/mnist/t10k-labels-idx1-ubyte.gz to ./data/MNIST/raw/t10k-labels-idx1-ubyte.gz\n"
     ]
    },
    {
     "name": "stderr",
     "output_type": "stream",
     "text": [
      "100%|██████████| 4542/4542 [00:00<00:00, 5656332.77it/s]"
     ]
    },
    {
     "name": "stdout",
     "output_type": "stream",
     "text": [
      "Extracting ./data/MNIST/raw/t10k-labels-idx1-ubyte.gz to ./data/MNIST/raw\n",
      "\n",
      "size: 60000\n",
      "type: <class 'PIL.Image.Image'>\n",
      "label 5\n"
     ]
    },
    {
     "name": "stderr",
     "output_type": "stream",
     "text": [
      "\n"
     ]
    },
    {
     "data": {
      "image/png": "[encoded data removed]",
      "text/plain": [
       "<Figure size 640x480 with 1 Axes>"
      ]
     },
     "metadata": {},
     "output_type": "display_data"
    }
   ],
   "source": [
    "import torchvision\n",
    "import matplotlib.pyplot as plt\n",
    "\n",
    "dataset = torchvision.datasets.MNIST(\n",
    "    root='./data',\n",
    "    train=True, # Falseにするとテスト用データセットを読み込む\n",
    "    transform=None,\n",
    "    download=True\n",
    ")\n",
    "\n",
    "x, label = dataset[0]\n",
    "\n",
    "print('size:', len(dataset))\n",
    "print('type:', type(x))\n",
    "print('label', label)\n",
    "\n",
    "# 画像を表示\n",
    "plt.imshow(x, cmap='gray')\n",
    "plt.show()"
   ]
  },
  {
   "cell_type": "markdown",
   "metadata": {},
   "source": [
    "### 前処理\n",
    "MNISTデータセットはPILのImageクラスであるため、Tensorに変換する必要がある。その前処理は次のようにかける"
   ]
  },
  {
   "cell_type": "code",
   "execution_count": 30,
   "metadata": {},
   "outputs": [
    {
     "name": "stdout",
     "output_type": "stream",
     "text": [
      "type: <class 'torch.Tensor'>\n",
      "shape: torch.Size([1, 28, 28])\n"
     ]
    }
   ],
   "source": [
    "import torchvision\n",
    "import torchvision.transforms as transforms\n",
    "\n",
    "transform = transforms.ToTensor() # テンソルへ変換\n",
    "\n",
    "dataset = torchvision.datasets.MNIST(\n",
    "    root='./data',\n",
    "    train=True,\n",
    "    transform=transform, # 前処理の指定\n",
    "    download=True\n",
    ")\n",
    "\n",
    "x, label = dataset[0]\n",
    "print('type:', type(x))\n",
    "print('shape:', x.shape)"
   ]
  },
  {
   "cell_type": "markdown",
   "metadata": {},
   "source": [
    "### データローダ\n",
    "データセットからミニバッチとしてデータを取り出し、エポックごとにシャッフルをおこなう"
   ]
  },
  {
   "cell_type": "code",
   "execution_count": 31,
   "metadata": {},
   "outputs": [
    {
     "name": "stdout",
     "output_type": "stream",
     "text": [
      "x shape: torch.Size([32, 1, 28, 28])\n",
      "label shape: torch.Size([32])\n"
     ]
    }
   ],
   "source": [
    "import torch\n",
    "\n",
    "dataloader = torch.utils.data.DataLoader(\n",
    "    dataset,\n",
    "    batch_size=32,\n",
    "    shuffle=True\n",
    ")\n",
    "\n",
    "for x, label in dataloader:\n",
    "    print('x shape:', x.shape)\n",
    "    print(\"label shape:\", label.shape)\n",
    "    break # 0番目のみ表示"
   ]
  }
 ],
 "metadata": {
  "kernelspec": {
   "display_name": "sam",
   "language": "python",
   "name": "python3"
  },
  "language_info": {
   "codemirror_mode": {
    "name": "ipython",
    "version": 3
   },
   "file_extension": ".py",
   "mimetype": "text/x-python",
   "name": "python",
   "nbconvert_exporter": "python",
   "pygments_lexer": "ipython3",
   "version": "3.10.0"
  }
 },
 "nbformat": 4,
 "nbformat_minor": 2
}
